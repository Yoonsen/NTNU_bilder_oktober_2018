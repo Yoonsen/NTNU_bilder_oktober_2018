{
 "cells": [
  {
   "cell_type": "markdown",
   "metadata": {},
   "source": [
    "# Bildemanipulering\n",
    "\n",
    "https://pdfs.semanticscholar.org/0f1e/866c3acb8a10f96b432e86f8a61be5eb6799.pdf\n",
    "\n",
    "\n",
    "Filen er funnet https://realpython.com/face-recognition-with-python/\n",
    "\n",
    "Mer her: https://docs.opencv.org/3.3.0/d7/d8b/tutorial_py_face_detection.html"
   ]
  },
  {
   "cell_type": "code",
   "execution_count": null,
   "metadata": {},
   "outputs": [],
   "source": [
    "import cv2\n",
    "import module_update\n",
    "\n",
    "import nbpictures as nbp\n",
    "import numpy as np\n",
    "\n",
    "import matplotlib.pyplot as plt\n",
    "%matplotlib inline\n",
    "\n",
    "from PIL import Image\n",
    "#import cv2\n",
    "import numpy as np"
   ]
  },
  {
   "cell_type": "raw",
   "metadata": {},
   "source": []
  },
  {
   "cell_type": "markdown",
   "metadata": {},
   "source": [
    "# Fargelegging\n"
   ]
  },
  {
   "cell_type": "code",
   "execution_count": null,
   "metadata": {},
   "outputs": [],
   "source": [
    "bilder = nbp.find_urls('Oslo, vinter')"
   ]
  },
  {
   "cell_type": "code",
   "execution_count": null,
   "metadata": {},
   "outputs": [],
   "source": [
    "img = nbp.get_picture_from_url(bilder[3], height=500)\n",
    "nb_image = np.array(img)\n",
    "Image.fromarray(nb_image)"
   ]
  },
  {
   "cell_type": "code",
   "execution_count": null,
   "metadata": {},
   "outputs": [],
   "source": [
    "def tint(image, multiplier):\n",
    "    import matplotlib.pyplot as plt\n",
    "    from skimage import color\n",
    "    from skimage import img_as_float\n",
    "\n",
    "    grayscale_image = img_as_float(nb_image)\n",
    "    image = color.gray2rgb(grayscale_image)\n",
    "\n",
    "    return multiplier * image\n",
    "   "
   ]
  },
  {
   "cell_type": "code",
   "execution_count": null,
   "metadata": {},
   "outputs": [],
   "source": [
    "def mplot(image_as_array, x=12, y=12):\n",
    "    fig, ax = plt.subplots(figsize=(x, y))\n",
    "    plt.imshow(image_as_array)\n"
   ]
  },
  {
   "cell_type": "code",
   "execution_count": null,
   "metadata": {},
   "outputs": [],
   "source": [
    "mplot(tint(nb_image, [1,1,1]))"
   ]
  },
  {
   "cell_type": "code",
   "execution_count": null,
   "metadata": {},
   "outputs": [],
   "source": []
  }
 ],
 "metadata": {
  "kernelspec": {
   "display_name": "Python 3",
   "language": "python",
   "name": "python3"
  },
  "language_info": {
   "codemirror_mode": {
    "name": "ipython",
    "version": 3
   },
   "file_extension": ".py",
   "mimetype": "text/x-python",
   "name": "python",
   "nbconvert_exporter": "python",
   "pygments_lexer": "ipython3",
   "version": "3.6.5"
  }
 },
 "nbformat": 4,
 "nbformat_minor": 2
}

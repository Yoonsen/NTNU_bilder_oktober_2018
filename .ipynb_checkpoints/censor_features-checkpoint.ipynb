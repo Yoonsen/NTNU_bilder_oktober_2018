{
 "cells": [
  {
   "cell_type": "markdown",
   "metadata": {},
   "source": [
    "# Bildemanipulering\n",
    "\n",
    "https://pdfs.semanticscholar.org/0f1e/866c3acb8a10f96b432e86f8a61be5eb6799.pdf\n",
    "\n",
    "\n",
    "Filen er funnet https://realpython.com/face-recognition-with-python/\n",
    "\n",
    "Mer her: https://docs.opencv.org/3.3.0/d7/d8b/tutorial_py_face_detection.html"
   ]
  },
  {
   "cell_type": "code",
   "execution_count": null,
   "metadata": {},
   "outputs": [],
   "source": [
    "import cv2\n",
    "import module_update\n",
    "\n",
    "import nbpictures as nbp\n",
    "import numpy as np\n",
    "\n",
    "import matplotlib.pyplot as plt\n",
    "%matplotlib inline\n",
    "\n",
    "from PIL import Image\n",
    "#import cv2\n",
    "import numpy as np"
   ]
  },
  {
   "cell_type": "code",
   "execution_count": null,
   "metadata": {},
   "outputs": [],
   "source": [
    "def mplot(image_as_array, x=12, y=12):\n",
    "    fig, ax = plt.subplots(figsize=(x, y))\n",
    "    plt.imshow(image_as_array)\n"
   ]
  },
  {
   "cell_type": "code",
   "execution_count": null,
   "metadata": {},
   "outputs": [],
   "source": [
    "def censor_features(image):\n",
    "    from skimage import transform as tf\n",
    "    from skimage.feature import CENSURE\n",
    "    from skimage.color import rgb2gray\n",
    "\n",
    "\n",
    "    img_orig = rgb2gray(image)\n",
    "   \n",
    "    detector = CENSURE()\n",
    "\n",
    "    fig, ax = plt.subplots(figsize=(12, 6))\n",
    "\n",
    "    detector.detect(img_orig)\n",
    "\n",
    "    ax.imshow(img_orig, cmap=plt.cm.gray)\n",
    "    ax.scatter(detector.keypoints[:, 1], detector.keypoints[:, 0],\n",
    "                  2 ** detector.scales, facecolors='none', edgecolors='r')\n",
    "\n",
    "    plt.show()\n",
    "    return detector"
   ]
  },
  {
   "cell_type": "code",
   "execution_count": null,
   "metadata": {},
   "outputs": [],
   "source": [
    "def censor_features_example(image):\n",
    "    from skimage import transform as tf\n",
    "    from skimage.feature import CENSURE\n",
    "    from skimage.color import rgb2gray\n",
    "\n",
    "\n",
    "    img_orig = rgb2gray(image)\n",
    "    tform = tf.AffineTransform(scale=(1.5, 1.5), rotation=0.5,\n",
    "                               translation=(150, -200))\n",
    "    img_warp = tf.warp(img_orig, tform)\n",
    "\n",
    "    detector = CENSURE()\n",
    "\n",
    "    fig, ax = plt.subplots(nrows=1, ncols=2, figsize=(12, 6))\n",
    "\n",
    "    detector.detect(img_orig)\n",
    "\n",
    "    ax[0].imshow(img_orig, cmap=plt.cm.gray)\n",
    "    ax[0].scatter(detector.keypoints[:, 1], detector.keypoints[:, 0],\n",
    "                  2 ** detector.scales, facecolors='none', edgecolors='r')\n",
    "    ax[0].set_title(\"Original Image\")\n",
    "\n",
    "    detector.detect(img_warp)\n",
    "\n",
    "    ax[1].imshow(img_warp, cmap=plt.cm.gray)\n",
    "    ax[1].scatter(detector.keypoints[:, 1], detector.keypoints[:, 0],\n",
    "                  2 ** detector.scales, facecolors='none', edgecolors='r')\n",
    "    ax[1].set_title('Transformed Image')\n",
    "\n",
    "    for a in ax:\n",
    "        a.axis('off')\n",
    "\n",
    "    plt.tight_layout()\n",
    "    plt.show()"
   ]
  },
  {
   "cell_type": "markdown",
   "metadata": {},
   "source": [
    "# Konturer\n"
   ]
  },
  {
   "cell_type": "code",
   "execution_count": null,
   "metadata": {},
   "outputs": [],
   "source": [
    "bilder = nbp.find_urls('Oslo, vinter')"
   ]
  },
  {
   "cell_type": "code",
   "execution_count": null,
   "metadata": {},
   "outputs": [],
   "source": [
    "img = nbp.get_picture_from_url(bilder[3], height=500)\n",
    "nb_image = np.array(img)\n",
    "Image.fromarray(nb_image)"
   ]
  },
  {
   "cell_type": "code",
   "execution_count": null,
   "metadata": {},
   "outputs": [],
   "source": [
    "censor_features_example(nb_image)"
   ]
  },
  {
   "cell_type": "code",
   "execution_count": null,
   "metadata": {},
   "outputs": [],
   "source": [
    "fs = censor_features(nb_image)"
   ]
  },
  {
   "cell_type": "code",
   "execution_count": null,
   "metadata": {},
   "outputs": [],
   "source": [
    "fs.scales"
   ]
  },
  {
   "cell_type": "code",
   "execution_count": null,
   "metadata": {},
   "outputs": [],
   "source": []
  }
 ],
 "metadata": {
  "kernelspec": {
   "display_name": "Python 3",
   "language": "python",
   "name": "python3"
  },
  "language_info": {
   "codemirror_mode": {
    "name": "ipython",
    "version": 3
   },
   "file_extension": ".py",
   "mimetype": "text/x-python",
   "name": "python",
   "nbconvert_exporter": "python",
   "pygments_lexer": "ipython3",
   "version": "3.6.5"
  }
 },
 "nbformat": 4,
 "nbformat_minor": 2
}

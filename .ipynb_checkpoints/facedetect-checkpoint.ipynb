{
 "cells": [
  {
   "cell_type": "markdown",
   "metadata": {},
   "source": [
    "# Finne objekter\n",
    "\n",
    "https://pdfs.semanticscholar.org/0f1e/866c3acb8a10f96b432e86f8a61be5eb6799.pdf\n",
    "\n",
    "\n",
    "Filen er funnet https://realpython.com/face-recognition-with-python/\n",
    "\n",
    "Mer her: https://docs.opencv.org/3.3.0/d7/d8b/tutorial_py_face_detection.html"
   ]
  },
  {
   "cell_type": "code",
   "execution_count": null,
   "metadata": {},
   "outputs": [],
   "source": [
    "import cv2\n",
    "import module_update\n",
    "\n",
    "import nbpictures as nbp\n",
    "import numpy as np\n",
    "\n",
    "import matplotlib.pyplot as plt\n",
    "%matplotlib inline\n",
    "\n",
    "from PIL import Image\n",
    "import numpy as np"
   ]
  },
  {
   "cell_type": "markdown",
   "metadata": {},
   "source": [
    "# Finne ansikter\n"
   ]
  },
  {
   "cell_type": "code",
   "execution_count": null,
   "metadata": {},
   "outputs": [],
   "source": [
    "def find_faces(image, scale=1.1, minNeighbors=5, cascade = \"haarcascade_frontalface_default.xml\"):\n",
    "\n",
    "    faceCascade = cv2.CascadeClassifier(cascade)\n",
    "    gray = cv2.cvtColor(image, cv2.COLOR_BGR2GRAY)\n",
    "\n",
    "    faces = faceCascade.detectMultiScale(\n",
    "        gray,\n",
    "        scaleFactor=scale,\n",
    "        minNeighbors=minNeighbors,\n",
    "        minSize=(30, 30),\n",
    "        #flags = cv2.cv.CV_HAAR_SCALE_IMAGE\n",
    "    )\n",
    "\n",
    "    return faces"
   ]
  },
  {
   "cell_type": "code",
   "execution_count": null,
   "metadata": {},
   "outputs": [],
   "source": [
    "def extract_face(image, face):\n",
    "    from PIL import Image\n",
    "    im = Image.fromarray(image)\n",
    "    (x, y, w, h) = face\n",
    "    crop_rectangle = (x, y, x+w, y+h)\n",
    "    cropped_im = im.crop(crop_rectangle)\n",
    "\n",
    "    return cropped_im"
   ]
  },
  {
   "cell_type": "code",
   "execution_count": null,
   "metadata": {},
   "outputs": [],
   "source": [
    "def mark_faces(faces, image):\n",
    "    for (x, y, w, h) in faces:\n",
    "        cv2.rectangle(image, (x, y), (x+w, y+h), (0, 255, 0), 2)\n",
    "    "
   ]
  },
  {
   "cell_type": "code",
   "execution_count": null,
   "metadata": {},
   "outputs": [],
   "source": [
    "int(np.floor(3.0))"
   ]
  },
  {
   "cell_type": "code",
   "execution_count": null,
   "metadata": {},
   "outputs": [],
   "source": [
    "def show_pics(pics):\n",
    "    \"\"\"Show list of pictures\"\"\"\n",
    "    \n",
    "    cols = 6\n",
    "    rows = int(np.ceil(len(pics)/cols))\n",
    "    print(rows, cols)\n",
    "    fig,axes = plt.subplots(nrows=rows, ncols = cols, figsize=(50,50))\n",
    "\n",
    "    for ax in axes.flatten():\n",
    "        ax.axis('off')\n",
    "\n",
    "    ##edit this line to include your own image ids\n",
    "    image_id_list=['{}_{}'.format(i,j) for i in range(2011,2016) for j in range(1,3)]\n",
    "    r = 0\n",
    "    c = 0\n",
    "    for r in range(rows):\n",
    "        for c in range(cols):\n",
    "            picnum = r*rows + c\n",
    "            if picnum <= len(pics):\n",
    "                axes[r,c].imshow(pics[picnum])\n",
    "    plt.show()"
   ]
  },
  {
   "cell_type": "code",
   "execution_count": null,
   "metadata": {},
   "outputs": [],
   "source": [
    "bilder = nbp.find_urls('Oslo, kvinner')"
   ]
  },
  {
   "cell_type": "code",
   "execution_count": null,
   "metadata": {},
   "outputs": [],
   "source": [
    "img = nbp.get_picture_from_url(bilder[3], height=500)\n",
    "nb_image = np.array(img)\n",
    "Image.fromarray(nb_image)"
   ]
  },
  {
   "cell_type": "code",
   "execution_count": null,
   "metadata": {},
   "outputs": [],
   "source": [
    "nb_faces = find_faces(nb_image, scale=1.03, minNeighbors=5)\n",
    "len(nb_faces)"
   ]
  },
  {
   "cell_type": "code",
   "execution_count": null,
   "metadata": {},
   "outputs": [],
   "source": [
    "mark_faces(nb_faces, nb_image)\n",
    "Image.fromarray(nb_image)"
   ]
  },
  {
   "cell_type": "code",
   "execution_count": null,
   "metadata": {},
   "outputs": [],
   "source": [
    "nbp.get_metadata_from_url(bilde[3])"
   ]
  },
  {
   "cell_type": "code",
   "execution_count": null,
   "metadata": {},
   "outputs": [],
   "source": [
    "med_ansikt = []\n",
    "for b in bilder[:30]:\n",
    "    nb_image = np.array(nbp.get_picture_from_url(b, height=500))\n",
    "    try:\n",
    "        faces = find_faces(nb_image, scale=1.3)\n",
    "        if len(faces) > 0:\n",
    "            #mark_faces(faces, nb_image)\n",
    "            med_ansikt.append( (nb_image, faces))\n",
    "    except:\n",
    "        print('Noe gikk galt med', b)"
   ]
  },
  {
   "cell_type": "code",
   "execution_count": null,
   "metadata": {},
   "outputs": [],
   "source": [
    "len(med_ansikt)"
   ]
  },
  {
   "cell_type": "code",
   "execution_count": null,
   "metadata": {},
   "outputs": [],
   "source": [
    "Image.fromarray(med_ansikt[7][0])"
   ]
  },
  {
   "cell_type": "code",
   "execution_count": null,
   "metadata": {},
   "outputs": [],
   "source": [
    "extract_face(med_ansikt[5][0], med_ansikt[2][1][1])"
   ]
  },
  {
   "cell_type": "code",
   "execution_count": null,
   "metadata": {},
   "outputs": [],
   "source": [
    "set_of_faces = []\n",
    "for img in med_ansikt:\n",
    "    for f in img[1]:\n",
    "        set_of_faces.append(np.array(extract_face(img[0], f)))\n",
    "    \n",
    "    "
   ]
  },
  {
   "cell_type": "code",
   "execution_count": null,
   "metadata": {},
   "outputs": [],
   "source": [
    "len(set_of_faces)"
   ]
  },
  {
   "cell_type": "code",
   "execution_count": null,
   "metadata": {},
   "outputs": [],
   "source": [
    "show_pics(set_of_faces)"
   ]
  },
  {
   "cell_type": "code",
   "execution_count": null,
   "metadata": {},
   "outputs": [],
   "source": []
  }
 ],
 "metadata": {
  "kernelspec": {
   "display_name": "Python 3",
   "language": "python",
   "name": "python3"
  },
  "language_info": {
   "codemirror_mode": {
    "name": "ipython",
    "version": 3
   },
   "file_extension": ".py",
   "mimetype": "text/x-python",
   "name": "python",
   "nbconvert_exporter": "python",
   "pygments_lexer": "ipython3",
   "version": "3.6.5"
  }
 },
 "nbformat": 4,
 "nbformat_minor": 2
}
